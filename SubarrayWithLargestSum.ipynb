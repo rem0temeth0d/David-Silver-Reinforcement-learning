{
  "nbformat": 4,
  "nbformat_minor": 0,
  "metadata": {
    "colab": {
      "provenance": [],
      "toc_visible": true,
      "authorship_tag": "ABX9TyPCCkETjnKkgyMQoAnm7bc8",
      "include_colab_link": true
    },
    "kernelspec": {
      "name": "python3",
      "display_name": "Python 3"
    },
    "language_info": {
      "name": "python"
    }
  },
  "cells": [
    {
      "cell_type": "markdown",
      "metadata": {
        "id": "view-in-github",
        "colab_type": "text"
      },
      "source": [
        "<a href=\"https://colab.research.google.com/github/rem0temeth0d/David-Silver-Reinforcement-learning/blob/master/SubarrayWithLargestSum.ipynb\" target=\"_parent\"><img src=\"https://colab.research.google.com/assets/colab-badge.svg\" alt=\"Open In Colab\"/></a>"
      ]
    },
    {
      "cell_type": "code",
      "execution_count": 5,
      "metadata": {
        "id": "-d-fockr2KZj"
      },
      "outputs": [],
      "source": [
        "import numpy\n",
        "\n",
        "def compute_array(size):\n",
        "  arr = numpy.random.randint(low=-100, high=100, size=size, dtype='l')\n",
        "  return arr"
      ]
    },
    {
      "cell_type": "code",
      "source": [
        "def sum_array_elements(arr):\n",
        "  sum = 0\n",
        "  for index, value in enumerate(arr):\n",
        "    # print(f\"Index: {index}, Value: {value}\")\n",
        "    sum += value\n",
        "    # print(f\"Sum: {sum}\")\n",
        "  return sum\n",
        "\n",
        "def binary_split_sum(arr):\n",
        "  print(arr.size)\n",
        "  [left_sub,right_sub] = numpy.array_split(arr, 2, axis=0)\n",
        "  left_sub_sum = sum_array_elements(left_sub)\n",
        "  right_sub_sum = sum_array_elements(right_sub)\n",
        "  if left_sub_sum > right_sub_sum:\n",
        "\n",
        "  print(left_sub_sum)\n",
        "  print(right_sub_sum)\n",
        "\n"
      ],
      "metadata": {
        "id": "I6LF-8J73Bmj"
      },
      "execution_count": 22,
      "outputs": []
    },
    {
      "cell_type": "code",
      "source": [
        "\"\"\"\n",
        "Execution block\n",
        "\"\"\"\n",
        "\n",
        "rand_arry_init = compute_array(15)\n",
        "print(rand_arry_init)\n",
        "# first_pass(rand_arry_init)\n",
        "binary_split_sum(rand_arry_init)"
      ],
      "metadata": {
        "colab": {
          "base_uri": "https://localhost:8080/"
        },
        "id": "o0l3kDWi3_86",
        "outputId": "56b1d8e7-3b68-4719-a7fd-e352e0873849"
      },
      "execution_count": 23,
      "outputs": [
        {
          "output_type": "stream",
          "name": "stdout",
          "text": [
            "[-44 -90 -72  97  27 -97  28 -19  61  31 -73   9 -89  86  45]\n",
            "15\n",
            "-170\n",
            "70\n"
          ]
        }
      ]
    }
  ]
}